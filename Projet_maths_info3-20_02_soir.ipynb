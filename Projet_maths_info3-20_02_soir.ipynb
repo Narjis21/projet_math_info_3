{
 "cells": [
  {
   "cell_type": "markdown",
   "execution_count": null,
   "metadata": {},
   "outputs": [],
   "source": [
    "# Projet numérique : câble sous-marin\n",
    "\n",
    "Par Narjis El Amraoui et Rania Fathi"
   ]
  },
  {
   "cell_type": "markdown",
   "execution_count": null,
   "metadata": {},
   "outputs": [],
   "source": [
    "### Préambule:"
   ]
  },
  {
   "cell_type": "code",
   "execution_count": null,
   "metadata": {},
   "outputs": [],
   "source": [
    "import numpy as np\n",
    "import math\n",
    "import matplotlib.pyplot as plt\n",
    "\n",
    "A=0\n",
    "B=500\n",
    "N=101\n",
    "Delta = (B-A)/(N-1)\n",
    "discretization_indexes = np.arange(N)\n",
    "discretization = discretization_indexes*Delta\n",
    "\n",
    "mu = -5\n",
    "a = 50\n",
    "sigma2 = 12\n",
    "\n",
    "observation_indexes = np.array([0,20,40,60,80,100])\n",
    "observation = observation_indexes * Delta\n",
    "\n",
    "depth = np.array([50,-4,-12.8,-1,-6.5,0])\n",
    "\n",
    "unknown_indexes=np.array(list(set(discretization_indexes)-set(observation_indexes)))\n",
    "unknown_positions = unknown_indexes * Delta"
   ]
  },
  {
   "cell_type": "markdown",
   "execution_count": null,
   "metadata": {},
   "outputs": [],
   "source": [
    "## Questions théoriques: "
   ]
  },
  {
   "cell_type": "markdown",
   "execution_count": null,
   "metadata": {},
   "outputs": [],
   "source": [
    "1 - C'est la loi forte des grands nombres qui nous autorise à estimer l’espérance conditionnelle par la moyenne empirique de simulations conditionnelles.\n"
   ]
  },
  {
   "cell_type": "markdown",
   "execution_count": null,
   "metadata": {},
   "outputs": [],
   "source": [
    "2 - Comme démontré dans le cours de probabilités 4, le vecteur des composantes de __Z__ correspondant aux points de discrétisation sans observation connaissant les valeurs prises par les composantes aux sites d’observation suit une loi normale. \n",
    "En notant X le vecteur aléatoire des composantes non observées, et Y celui des observations, et y les valeurs des observations, on a que __Z__ suit une loi normale d'espérance $m_{X|Y=y} =  m_X + C_{X,Y}C_Y^{-1}(y-m_Y)$ et de matrice de covariance $ C_X - C_{X,Y}C_Y^{-1}C_{Y,X}$\n"
   ]
  },
  {
   "cell_type": "markdown",
   "execution_count": null,
   "metadata": {},
   "outputs": [],
   "source": [
    "3 - Si Y = (Y1, . . . , Yp) est un vecteur de composantes gaussiennes indépendantes, toutes d’espérance nulle et de variance 1, alors le vecteur Z = m + RY suit une loi normale d'espérance m et de matrice de covariance $R^{t}R$ , en effet : \n",
    "$\\Phi_{Z}(u)= \\textbf{E}(e^{i<u, m + RY>})  \\\\\n",
    "\\Phi_{Z}(u)= \\textbf{E}(e^{i<u,m>} e^{<^t Ru, Y>}) \\\\ \n",
    "\\Phi_{Z}(u)= e^{i<u,m>}\\textbf{E}( e^{<^{t}Ru, Y>}) \\\\\n",
    "\\Phi_{Z}(u)= e^{i<u,m>} \\Phi_{Y}(^{t}Ru)$\n",
    "\n"
   ]
  },
  {
   "cell_type": "markdown",
   "execution_count": null,
   "metadata": {},
   "outputs": [],
   "source": [
    "Et Y suit une loi normale, d'espérance (0,...,0) et de covariance l'identité, d'où: \n",
    "$\\Phi_{Y}(u) = e^{i<u,0> - \\frac{1}{2}<u,u>} \\\\\n",
    " \\Phi_{Y}(^{t}Ru) = e^{- \\frac{1}{2}<^{t}Ru,^{t}Ru>}\\\\\n",
    " \\Phi_{Y}(^{t}Ru) = e^{- \\frac{1}{2}<u,R^{t}Ru>}$"
   ]
  },
  {
   "cell_type": "markdown",
   "execution_count": null,
   "metadata": {},
   "outputs": [],
   "source": [
    "On en déduit donc que :  \n",
    "$\\Phi_{Y}(u) = e^{i<u,m> - \\frac{1}{2}<u,R^{t}Ru>} $\n"
   ]
  },
  {
   "cell_type": "markdown",
   "execution_count": null,
   "metadata": {},
   "outputs": [],
   "source": [
    "La fonction caractéristique déterminant de façon unique la loi suivie par Z, on a bien le résultat annoncé. \n",
    "Reste que pour la suite du projet, il sera nécessaire de décomposer la matrice de covariance de Z - notons la C - sous la forme $R^{t}R$. "
   ]
  },
  {
   "cell_type": "markdown",
   "execution_count": null,
   "metadata": {},
   "outputs": [],
   "source": [
    "On cherche R triangulaire inférieure telle que $C=R^tR$. On note $c_{ij}$ les coefficients de la matrice C, et $r_{ij}$ ceux de R. On a donc : \n",
    "$c_{ij} = \\sum _{k=0}^{min(i,j)} r_{ik} r_{jk} $ car $r_{ij} = 0$ si $j \\geq i$ \n"
   ]
  },
  {
   "cell_type": "markdown",
   "execution_count": null,
   "metadata": {},
   "outputs": [],
   "source": [
    "Comme C est symétrique, on peut se limiter aux $c_{ij} = \\sum _{k=0}^{i} r_{ik} r_{jk} $ où $i \\leq j$\n",
    "\n",
    "On détermine les coefficients de R par récurrence: \n",
    "\n",
    "* Pour i = 1:\n",
    "    * j =1: $c_{11} = r_{11}^2$ donc $r_{11}= \\sqrt{c_{11}}$\n",
    "    * j>1: $c_{1j} = r_{11}r_{j1}$ donc $r_{j1} = \\frac{c_{1j}}{\\sqrt{c_{11}}}$ \n",
    "* Pour i > 1, en supposant les i-1 premières colonnes connues: \n",
    "    * $c_{ii} = \\sum _{k=0}^{i-1} r_{ik} ^2 + r_{ii}^2$ donc $r_{ii}= \\sqrt{c_{ii} - \\sum _{k=0}^{i-1} r_{ik} r_{ji}}$ \n",
    "    * $c_{ij} = \\sum _{k=0}^{i-1} r_{ik} r_{jk} + r_{ii}r_{ji}$ donc $r_{ji}= \\frac{c_{ij} - \\sum _{k=0}^{i-1} r_{ik} r_{jk}} {r_{ii}} \n",
    "    $\n",
    "    \n",
    "    \n",
    "Toutes les grandeurs ainsi définies ont un sens car C est définie positive "
   ]
  },
  {
   "cell_type": "markdown",
   "execution_count": null,
   "metadata": {},
   "outputs": [],
   "source": [
    "4 - On en déduit l'algorithme de simulation conditionnel suivant: "
   ]
  },
  {
   "cell_type": "code",
   "execution_count": null,
   "metadata": {},
   "outputs": [],
   "source": [
    "def vecteur_gaussien(moy_Z, R): \n",
    "    \"\"\"Simulation numérique de Z qui suit N(moy_Z, RtR) en fonction de R et moy_Z (l'espérance conditionelle)\"\"\"\n",
    "    taille=N-len(observation_indexes) \n",
    "    moy = np.zeros(1)\n",
    "    cov = np.identity(1)\n",
    "    Y = np.random.multivariate_normal(moy, cov, taille)\n",
    "    Z = moy_Z + np.dot(R, Y)\n",
    "    return Z #Z_conditionnel est de taille N-6\n",
    "\n",
    "def matrice_R(C):\n",
    "    \"\"\"On cherche à trouver R telle que Cov_Z = RtR où R est \n",
    "    triangulaire inférieure (théorème de Cholesky prouvé par \n",
    "    analyse-synthèse) on peut trouver les coefficients d'un tel\n",
    "    R grâce à l'algorithme suivant\"\"\"\n",
    "    \n",
    "    taille=N-len(observation_indexes)\n",
    "    \n",
    "    R = np.zeros((taille, taille))\n",
    "    \n",
    "    #D'abord la première colonne ie pour i=0\n",
    "    R[0][0] = math.sqrt(C[0][0])\n",
    "    for j in range(1, taille):\n",
    "        R[j][0] = C[0][j]/R[0][0]\n",
    "        \n",
    "    #Puis pour les autres colonnes qui se calculent par récurrence sur les colonnes\n",
    "    for i in range(1,taille):\n",
    "        sommeii=0\n",
    "        for k in range(0,i):\n",
    "            sommeii+=R[i][k]**2\n",
    "        R[i][i] = math.sqrt(C[i][i]-sommeii)\n",
    "        for j in range(0, i):\n",
    "            sommeij=0\n",
    "            for k in range(0,i):\n",
    "                sommeij+=R[i][k]*R[j][k]\n",
    "            R[j][i] =  (C[i][j]-sommeij)/R[i][i]\n",
    "    return R"
   ]
  },
  {
   "cell_type": "code",
   "execution_count": null,
   "metadata": {},
   "outputs": [],
   "source": [
    "### Test vecteur_gaussien\n",
    "Y = np.random.multivariate_normal(np.zeros(1), np.identity(1), 95)\n",
    "moy = np.array([[0]]*95)\n",
    "Z = vecteur_gaussien(moy, np.identity(95))\n",
    "\n"
   ]
  },
  {
   "cell_type": "markdown",
   "execution_count": null,
   "metadata": {},
   "outputs": [],
   "source": [
    "## Implémentation: "
   ]
  },
  {
   "cell_type": "markdown",
   "execution_count": null,
   "metadata": {},
   "outputs": [],
   "source": [
    "#### Question 1"
   ]
  },
  {
   "cell_type": "code",
   "execution_count": null,
   "metadata": {},
   "outputs": [],
   "source": [
    "def covariance(distance, a, sigma2): \n",
    "    #np.exp renvoie bien la matrice des exp des éléments plutôt que l'exp de la matrice\n",
    "    return sigma2*np.exp(-distance/a) "
   ]
  },
  {
   "cell_type": "markdown",
   "execution_count": null,
   "metadata": {},
   "outputs": [],
   "source": [
    "**Question 2 :** On calcule la matrice de distance:  "
   ]
  },
  {
   "cell_type": "code",
   "execution_count": null,
   "metadata": {},
   "outputs": [],
   "source": [
    "def distance():\n",
    "    return np.array([[Delta * abs(i-j) for i in range(N)] for j in range(N)])"
   ]
  },
  {
   "cell_type": "markdown",
   "execution_count": null,
   "metadata": {},
   "outputs": [],
   "source": [
    "**Question 3 :** On calcule la matrice de covariance de __Z__"
   ]
  },
  {
   "cell_type": "code",
   "execution_count": null,
   "metadata": {},
   "outputs": [],
   "source": [
    "cov_Z = covariance(distance(), a, sigma2) "
   ]
  },
  {
   "cell_type": "markdown",
   "execution_count": null,
   "metadata": {},
   "outputs": [],
   "source": [
    "**Question 4 :** Puis celles entre les observations, les observations et les inconnues, et les inconnues:"
   ]
  },
  {
   "cell_type": "code",
   "execution_count": null,
   "metadata": {},
   "outputs": [],
   "source": [
    "cov_obs = np.array([[cov_Z[i,j] for i in observation_indexes] for j in observation_indexes])\n",
    "cov_obs_inc = np.array([[cov_Z[i,j] for i in observation_indexes] for j in  unknown_indexes])\n",
    "cov_inc = np.array([[cov_Z[i,j] for i in unknown_indexes] for j in unknown_indexes ])"
   ]
  },
  {
   "cell_type": "markdown",
   "execution_count": null,
   "metadata": {},
   "outputs": [],
   "source": [
    "**Question 5 :** On calcule l’espérance conditionnelle des composantes non observées connaissant les observations :"
   ]
  },
  {
   "cell_type": "code",
   "execution_count": null,
   "metadata": {},
   "outputs": [],
   "source": [
    "# Calcul de l'espérance conditionnelle:\n",
    "m_inc = np.array([mu for i in unknown_indexes])\n",
    "m_obs = np.array([mu for i in observation_indexes])\n",
    "\n",
    "moy_Z_conditionnelle = m_inc + np.dot(np.dot(cov_obs_inc, np.linalg.inv(cov_obs)), depth - m_obs)\n",
    "#Il faut que le vecteur espérance conditionnelle soit une colonne et pas une lignes\n",
    "moy_Z_conditionnelle_colonne = np.array([[el] for el in moy_Z_conditionnelle]) "
   ]
  },
  {
   "cell_type": "markdown",
   "execution_count": null,
   "metadata": {},
   "outputs": [],
   "source": [
    "Que l'on représente avec les données: "
   ]
  },
  {
   "cell_type": "code",
   "execution_count": null,
   "metadata": {},
   "outputs": [],
   "source": [
    "plt.plot(unknown_indexes, moy_Z_conditionnelle, label=\"Espérance conditionnelle\")\n",
    "plt.plot(observation_indexes, depth, label=\"Observations\")\n",
    "plt.legend()\n",
    "plt.show()\n",
    "    "
   ]
  },
  {
   "cell_type": "markdown",
   "execution_count": null,
   "metadata": {},
   "outputs": [],
   "source": [
    "**Question 6 :** On calcule la matrice de variance conditionnelle et on extrait sa diagonale: "
   ]
  },
  {
   "cell_type": "code",
   "execution_count": null,
   "metadata": {},
   "outputs": [],
   "source": [
    "cov_Z_conditionnelle = cov_inc - np.dot(np.dot(cov_obs_inc,np.linalg.inv(cov_obs)),cov_obs_inc.T)\n",
    "cov_Z_conditionnelle_diag = np.array([cov_Z_conditionnelle[i,i] for i in range(len(unknown_indexes))]) \n"
   ]
  },
  {
   "cell_type": "code",
   "execution_count": null,
   "metadata": {},
   "outputs": [],
   "source": [
    "plt.plot(unknown_positions,cov_Z_conditionnelle_diag, label = \"Variance conditionnelle en fonction de la position\" )\n",
    "plt.legend()\n",
    "plt.show()"
   ]
  },
  {
   "cell_type": "markdown",
   "execution_count": null,
   "metadata": {},
   "outputs": [],
   "source": [
    "On remarque que la variance est quasi-nulle tous les 100m parce que ces points sont proches des observations, on sait donc déjà que leur profondeur  va peu varier, étant nécessairement proche de la profondeur des points d'observations."
   ]
  },
  {
   "cell_type": "markdown",
   "execution_count": null,
   "metadata": {},
   "outputs": [],
   "source": [
    " **Question 7:**"
   ]
  },
  {
   "cell_type": "code",
   "execution_count": null,
   "metadata": {},
   "outputs": [],
   "source": [
    "Z_conditionnel = vecteur_gaussien(moy_Z_conditionnelle_colonne, matrice_R(cov_Z_conditionnelle))\n",
    "\n",
    "\n",
    "\n",
    "plt.figure()\n",
    "\n",
    "plt.plot(unknown_positions, Z_conditionnel, label=\"Simulation conditionnelle\") \n",
    "plt.plot(observation, depth, label=\"Observations\")\n",
    "plt.plot(unknown_positions, moy_Z_conditionnelle, label=\"Espérance conditionnelle\")\n",
    "plt.legend()\n",
    "plt.show()\n",
    "\n"
   ]
  },
  {
   "cell_type": "markdown",
   "execution_count": null,
   "metadata": {},
   "outputs": [],
   "source": [
    "On remarque que la simulation fluctue de façon non négligeable, et donc, que la longueur du câble trouvé par simulation sera plus importante que celle obtenue grâce à l'espérance conditionnelle. Néanmoins, les profils produits par la simulation et par l'espérance conditonnelle ont bien la même allure.   "
   ]
  },
  {
   "cell_type": "markdown",
   "execution_count": null,
   "metadata": {},
   "outputs": [],
   "source": [
    " **Question 8:**"
   ]
  },
  {
   "cell_type": "code",
   "execution_count": null,
   "metadata": {},
   "outputs": [],
   "source": [
    "def longueur_cable(Z_gras, pas):\n",
    "    return sum(math.sqrt(pas**2 +(Z_gras[k]-Z_gras[k-1])**2) for k in range(1,N))"
   ]
  },
  {
   "cell_type": "markdown",
   "execution_count": null,
   "metadata": {},
   "outputs": [],
   "source": [
    "**Question 9:** "
   ]
  },
  {
   "cell_type": "markdown",
   "execution_count": null,
   "metadata": {},
   "outputs": [],
   "source": [
    "On reconstitue le Z entier avec la simulation conditionnelle et les données observées:\n"
   ]
  },
  {
   "cell_type": "code",
   "execution_count": null,
   "metadata": {},
   "outputs": [],
   "source": [
    "def Z_gras():\n",
    "    Z_gras = np.array([[0.]]*N)\n",
    "    c=0\n",
    "    Z_condi = vecteur_gaussien(moy_Z_conditionnelle_colonne, matrice_R(cov_Z_conditionnelle))\n",
    "    for i in unknown_indexes:\n",
    "        Z_gras[i] = Z_condi[c]\n",
    "        c+=1\n",
    "    c=0\n",
    "    for i in observation_indexes:\n",
    "        Z_gras[i] = depth[c]\n",
    "        c+=1\n",
    "    return Z_gras\n",
    "\n",
    "#Test longueur: \n",
    "longueur_cable(Z_gras(), Delta)"
   ]
  },
  {
   "cell_type": "markdown",
   "execution_count": null,
   "metadata": {},
   "outputs": [],
   "source": [
    "On reconstitue aussi le vecteur espérance en entier:"
   ]
  },
  {
   "cell_type": "code",
   "execution_count": null,
   "metadata": {},
   "outputs": [],
   "source": [
    "moy_Z_gras = np.array([[0.]]*N)\n",
    "c=0\n",
    "for i in unknown_indexes:\n",
    "    moy_Z_gras[i] = moy_Z_conditionnelle_colonne[c]\n",
    "    c+=1\n",
    "c=0\n",
    "for i in observation_indexes:\n",
    "    moy_Z_gras[i] = depth[c]\n",
    "    c+=1"
   ]
  },
  {
   "cell_type": "code",
   "execution_count": null,
   "metadata": {},
   "outputs": [],
   "source": [
    "n =100\n",
    "def sim_plusieurs_essais(n):\n",
    "    liste_longueurs=[]\n",
    "    for k in range(n):\n",
    "        liste_longueurs.append(longueur_cable(Z_gras(), Delta))\n",
    "    return liste_longueurs\n",
    "\n",
    "def moyenne(liste):\n",
    "    if len(liste)==0:\n",
    "        return 0\n",
    "    return sum(t for t in liste)/len(liste)\n",
    "\n"
   ]
  },
  {
   "cell_type": "code",
   "execution_count": null,
   "metadata": {},
   "outputs": [],
   "source": [
    "sim_multiples = sim_plusieurs_essais(n)\n",
    "L_estimee = moyenne(sim_multiples)\n",
    "L_esp_cond = longueur_cable(moy_Z_gras, Delta)\n",
    "print(L_estimee, L_esp_cond)\n",
    "\n"
   ]
  },
  {
   "cell_type": "markdown",
   "execution_count": null,
   "metadata": {},
   "outputs": [],
   "source": [
    "On retrouve bien des valeurs similaires, mais comme la variance est élevée lorsqu'on s'éloigne des observations et que N l'est aussi, on arrive très vite à de grandes distances parcourues entre 2 points d'observations par rapport à la distance optimale de l'espérance conditionnelle (quasiment une ligne droite). En effet, si pour plusieurs simulations on peut approcher l'espérance conditionnelle, ce n'est pas le cas pour la moyenne de la longueur où il n'y a pas de compensation sur les longues distances parcourues en moyenne puisqu'on passe par des valeurs absolues."
   ]
  },
  {
   "cell_type": "markdown",
   "execution_count": null,
   "metadata": {},
   "outputs": [],
   "source": [
    "**Question 10:**"
   ]
  },
  {
   "cell_type": "code",
   "execution_count": null,
   "metadata": {},
   "outputs": [],
   "source": [
    "pas = 10\n",
    "def liste(n): \n",
    "    return np.arange(0,n + pas, pas)\n",
    "\n",
    "def liste_Mn(pas):\n",
    "    liste_Sn = [0.]\n",
    "    liste_Mn = []\n",
    "    for k in range(1,len(liste(n))):\n",
    "        a = liste_Sn[-1]+ sum(t for t in sim_plusieurs_essais(pas)) # à chaque fois on ajoute 'pas' simulations plutôt que de tout recalculer\n",
    "        liste_Sn.append(a)\n",
    "    for k in range(1, len(liste(n))): \n",
    "        liste_Mn.append(liste_Sn[k]/liste(n)[k])\n",
    "    return liste_Mn"
   ]
  },
  {
   "cell_type": "code",
   "execution_count": null,
   "metadata": {},
   "outputs": [],
   "source": [
    "plt.figure()\n",
    "plt.plot(liste(100)[1:], liste_Mn(pas), label=\"Moyenne des longueurs de câbles en fonction du nombre de simulation\")\n",
    "plt.show()"
   ]
  },
  {
   "cell_type": "markdown",
   "execution_count": null,
   "metadata": {},
   "outputs": [],
   "source": [
    "**Question 11:**"
   ]
  },
  {
   "cell_type": "code",
   "execution_count": null,
   "metadata": {},
   "outputs": [],
   "source": [
    "bins_histo = 50\n",
    "histo = plt.hist(sim_multiples, range = (520, 600), bins = bins_histo, color = 'green', edgecolor = 'blue')\n",
    "plt.xlabel('Longueurs')\n",
    "plt.ylabel(\"Fréquence d'apparition\")\n",
    "plt.title('Histogramme des longueurs de câbles générées')\n"
   ]
  },
  {
   "cell_type": "markdown",
   "execution_count": null,
   "metadata": {},
   "outputs": [],
   "source": [
    "**Question 12:**\n"
   ]
  },
  {
   "cell_type": "markdown",
   "execution_count": null,
   "metadata": {},
   "outputs": [],
   "source": [
    "Première méthode: On utilise l'histogramme déjà réalisé - mais elle est assez peu précise"
   ]
  },
  {
   "cell_type": "code",
   "execution_count": null,
   "metadata": {},
   "outputs": [],
   "source": [
    "def plus_probable(occurences):\n",
    "    indexe = 0\n",
    "    for i in range(len(occurences)):\n",
    "        if occurences[i] > occurences[indexe]:\n",
    "            indexe = i \n",
    "    return indexe\n",
    "\n",
    "valeurs = [t for t,c in zip(histo[1], range(bins_histo)) if histo[0][c] != 0]\n",
    "occurences = [ c for c in histo[0] if c != 0]\n",
    "\n",
    "def intervalle_confiance():\n",
    "    proba = 0.\n",
    "    L = {}\n",
    "    indexe = plus_probable(occurences) #On choisit la tranche de l'histogramme avec le plus d'occurences,\n",
    "    #ce qui nous donne notre indexe de départ\n",
    "    while proba < .95:\n",
    "        #à chaque fois qu'on retire l'indexe retenu dans l'intervalle, on compare\n",
    "        #les deux indexes qui l'entouraient pour ne pas avoir de trous dans l'intervalle,\n",
    "        #ce qui correspond toujours à indexe et indexe+1 (en décrémentant indexe à indexe-1 quand il a été retenu pour ne pas sortir de la liste)\n",
    "        if occurences[indexe]>=occurences[indexe+1]: \n",
    "            indexe_retenu=indexe\n",
    "            indexe=indexe-1\n",
    "        else:\n",
    "            indexe_retenu=indexe+1\n",
    "        L[valeurs[indexe_retenu]] = occurences[indexe_retenu]\n",
    "        proba += occurences[indexe_retenu]/n \n",
    "        valeurs.pop(indexe_retenu)\n",
    "        occurences.pop(indexe_retenu)\n",
    "    return [min(L.keys()), max(L.keys())]\n",
    "intervalle_confiance()"
   ]
  },
  {
   "cell_type": "markdown",
   "execution_count": null,
   "metadata": {},
   "outputs": [],
   "source": [
    "Deuxième méthode: On assimile la distribution à une gaussienne et on applique la formule $moy \\pm Z_{\\frac{\\alpha}{2}} \\frac{\\sigma}{\\sqrt{n}}$"
   ]
  },
  {
   "cell_type": "code",
   "execution_count": null,
   "metadata": {},
   "outputs": [],
   "source": [
    "def int_confiance_m2(n): \n",
    "    moy = L_estimee\n",
    "    ecart_type = math.sqrt(sum((x-moy)**2 for x in sim_multiples)/n)\n",
    "    return np.array([moy - 1.96 * ecart_type/math.sqrt(n),moy + 1.96 * ecart_type/math.sqrt(n)])\n",
    "int_confiance_m2(n)"
   ]
  },
  {
   "cell_type": "markdown",
   "execution_count": null,
   "metadata": {},
   "outputs": [],
   "source": [
    "**Question 13:**"
   ]
  },
  {
   "cell_type": "code",
   "execution_count": null,
   "metadata": {},
   "outputs": [],
   "source": [
    "def estimation_proba_sup(longueur, n):\n",
    "    L = sim_multiples\n",
    "    compteur = sum(1 for k in range(n) if L[k]>=longueur)\n",
    "    return compteur/n\n",
    "\n",
    "estimation_proba_sup(525, n)\n"
   ]
  },
  {
   "cell_type": "markdown",
   "execution_count": null,
   "metadata": {},
   "outputs": [],
   "source": [
    "En effet, la moyenne qu'on obtient avec les simulations tourne autour de 570 et ne semble pas diminuer avec N (puisqu'on augmente les possibilités de s'éloigner des points d'observation en affectant à plus de points une hauteur qui suit une loi gaussienne). D'où la probabilité d'obtenir une longueur supérieure à 525m égale à 1 avec notre simulation."
   ]
  },
  {
   "cell_type": "markdown",
   "execution_count": null,
   "metadata": {},
   "outputs": [],
   "source": [
    "**Question 14:**\n"
   ]
  },
  {
   "cell_type": "markdown",
   "execution_count": null,
   "metadata": {},
   "outputs": [],
   "source": [
    "### On reprend les fonctions précédentes pour n = 1000"
   ]
  },
  {
   "cell_type": "code",
   "execution_count": null,
   "metadata": {},
   "outputs": [],
   "source": [
    "n = 1000\n",
    "sim_multiples = sim_plusieurs_essais(n) # C'est le calcul le plus long qu'on ait à effectuer\n",
    "\n"
   ]
  },
  {
   "cell_type": "code",
   "execution_count": null,
   "metadata": {},
   "outputs": [],
   "source": [
    "L_estimee = moyenne(sim_multiples)\n",
    "L_esp_cond = longueur_cable(moy_Z_gras, Delta)\n",
    "print(L_estimee, L_esp_cond)\n"
   ]
  },
  {
   "cell_type": "code",
   "execution_count": null,
   "metadata": {},
   "outputs": [],
   "source": [
    "\n",
    "histo = plt.hist(sim_multiples, range = (520, 600), bins = bins_histo, color = 'green', edgecolor = 'blue')\n",
    "plt.xlabel('Longueurs')\n",
    "plt.ylabel(\"Fréquence d'apparition\")\n",
    "plt.title('Histogramme des longueurs de câbles générées pour n = 1000')"
   ]
  },
  {
   "cell_type": "code",
   "execution_count": null,
   "metadata": {},
   "outputs": [],
   "source": [
    "Intervalles de confiance à 95%: "
   ]
  },
  {
   "cell_type": "code",
   "execution_count": null,
   "metadata": {},
   "outputs": [],
   "source": [
    "valeurs = [t for t,c in zip(histo[1], range(bins_histo)) if histo[0][c] != 0]\n",
    "occurences = [ c for c in histo[0] if c != 0]\n",
    "print(intervalle_confiance(), int_confiance_m2(n))"
   ]
  },
  {
   "cell_type": "markdown",
   "execution_count": null,
   "metadata": {},
   "outputs": [],
   "source": [
    "Probabilité de dépasser les 525m: "
   ]
  },
  {
   "cell_type": "code",
   "execution_count": null,
   "metadata": {},
   "outputs": [],
   "source": [
    "estimation_proba_sup(525, n)\n"
   ]
  },
  {
   "cell_type": "markdown",
   "execution_count": null,
   "metadata": {},
   "outputs": [],
   "source": [
    "### On reprend les fonctions précédentes pour n = 10000"
   ]
  },
  {
   "cell_type": "code",
   "execution_count": null,
   "metadata": {},
   "outputs": [],
   "source": [
    "n = 10000\n",
    "sim_multiples = sim_plusieurs_essais(n)"
   ]
  },
  {
   "cell_type": "code",
   "execution_count": null,
   "metadata": {},
   "outputs": [],
   "source": [
    "L_estimee = moyenne(sim_multiples)\n",
    "L_esp_cond = longueur_cable(moy_Z_gras, Delta)\n",
    "print(L_estimee, L_esp_cond)\n"
   ]
  },
  {
   "cell_type": "code",
   "execution_count": null,
   "metadata": {},
   "outputs": [],
   "source": [
    "histo = plt.hist(sim_multiples, range = (520, 600), bins = bins_histo, color = 'green', edgecolor = 'blue')\n",
    "plt.xlabel('Longueurs')\n",
    "plt.ylabel(\"Fréquence d'apparition\")\n",
    "plt.title('Histogramme des longueurs de câbles générées')"
   ]
  },
  {
   "cell_type": "code",
   "execution_count": null,
   "metadata": {},
   "outputs": [],
   "source": [
    "valeurs = [t for t,c in zip(histo[1], range(bins_histo)) if histo[0][c] != 0]\n",
    "occurences = [ c for c in histo[0] if c != 0]\n",
    "print(intervalle_confiance(), int_confiance_m2(n))\n",
    "\n"
   ]
  },
  {
   "cell_type": "markdown",
   "execution_count": null,
   "metadata": {},
   "outputs": [],
   "source": [
    "Probabilité de dépasser 525m: "
   ]
  },
  {
   "cell_type": "code",
   "execution_count": null,
   "metadata": {},
   "outputs": [],
   "source": [
    "estimation_proba_sup(525, n)\n"
   ]
  },
  {
   "cell_type": "code",
   "execution_count": null,
   "metadata": {},
   "outputs": [],
   "source": []
  }
 ],
 "metadata": {
  "kernelspec": {
   "display_name": "Python 3",
   "language": "python",
   "name": "python3"
  },
  "language_info": {
   "codemirror_mode": {
    "name": "ipython",
    "version": 3
   },
   "file_extension": ".py",
   "mimetype": "text/x-python",
   "name": "python",
   "nbconvert_exporter": "python",
   "pygments_lexer": "ipython3",
   "version": "3.7.3-final"
  }
 },
 "nbformat": 4,
 "nbformat_minor": 2
}